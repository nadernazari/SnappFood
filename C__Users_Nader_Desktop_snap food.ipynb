{
 "cells": [
  {
   "cell_type": "code",
   "execution_count": 77,
   "id": "0bc942e4",
   "metadata": {},
   "outputs": [],
   "source": [
    "#import library\n",
    "import pandas as pd\n",
    "import numpy as np\n",
    "import scipy.stats as stats\n",
    "import matplotlib.pyplot as plt\n",
    "from scipy.stats import wilcoxon"
   ]
  },
  {
   "cell_type": "code",
   "execution_count": 78,
   "id": "081375d6",
   "metadata": {},
   "outputs": [],
   "source": [
    "#read data\n",
    "df = pd.read_excel(\"C:/Users/Nader/Desktop/data/t test.xlsx\",engine=\"openpyxl\")"
   ]
  },
  {
   "cell_type": "code",
   "execution_count": 79,
   "id": "00d71f2b",
   "metadata": {},
   "outputs": [
    {
     "data": {
      "text/plain": [
       "{'whiskers': [<matplotlib.lines.Line2D at 0x208782d0eb0>,\n",
       "  <matplotlib.lines.Line2D at 0x2087830b280>],\n",
       " 'caps': [<matplotlib.lines.Line2D at 0x2087830b610>,\n",
       "  <matplotlib.lines.Line2D at 0x2087830b9a0>],\n",
       " 'boxes': [<matplotlib.lines.Line2D at 0x208782d0b20>],\n",
       " 'medians': [<matplotlib.lines.Line2D at 0x2087830bd30>],\n",
       " 'fliers': [<matplotlib.lines.Line2D at 0x20878329100>],\n",
       " 'means': []}"
      ]
     },
     "execution_count": 79,
     "metadata": {},
     "output_type": "execute_result"
    },
    {
     "data": {
      "image/png": "[encoded data removed]",
      "text/plain": [
       "<Figure size 360x216 with 1 Axes>"
      ]
     },
     "metadata": {
      "needs_background": "light"
     },
     "output_type": "display_data"
    }
   ],
   "source": [
    "#Box plot\n",
    "fig = plt.figure(figsize =(5, 3))\n",
    "# Creating plot\n",
    "plt.boxplot(df['Delay Rate 4'])"
   ]
  },
  {
   "cell_type": "code",
   "execution_count": 80,
   "id": "8b90015b",
   "metadata": {},
   "outputs": [
    {
     "data": {
      "text/plain": [
       "{'whiskers': [<matplotlib.lines.Line2D at 0x208783cfe50>,\n",
       "  <matplotlib.lines.Line2D at 0x208782ab1c0>],\n",
       " 'caps': [<matplotlib.lines.Line2D at 0x208782ab550>,\n",
       "  <matplotlib.lines.Line2D at 0x208782ab8e0>],\n",
       " 'boxes': [<matplotlib.lines.Line2D at 0x208783cfac0>],\n",
       " 'medians': [<matplotlib.lines.Line2D at 0x208782abc70>],\n",
       " 'fliers': [<matplotlib.lines.Line2D at 0x20878297040>],\n",
       " 'means': []}"
      ]
     },
     "execution_count": 80,
     "metadata": {},
     "output_type": "execute_result"
    },
    {
     "data": {
      "image/png": "[encoded data removed]",
      "text/plain": [
       "<Figure size 360x216 with 1 Axes>"
      ]
     },
     "metadata": {
      "needs_background": "light"
     },
     "output_type": "display_data"
    }
   ],
   "source": [
    "#Box plot\n",
    "fig = plt.figure(figsize =(5, 3))\n",
    "# Creating plot\n",
    "plt.boxplot(df['Delay Rate 5'])"
   ]
  },
  {
   "cell_type": "code",
   "execution_count": 82,
   "id": "a9e25bec",
   "metadata": {},
   "outputs": [],
   "source": [
    "#remove noise\n",
    "Q1 = df['Delay Rate 4'].quantile(0.25)\n",
    "Q3 = df['Delay Rate 4'].quantile(0.75)\n",
    "IQR = Q3 - Q1    #IQR is interquartile range. \n",
    "df = df[(df['Delay Rate 4'] >= (Q1 - 1.5 * IQR)) & (df['Delay Rate 4'] <= (Q3 + 1.5 *IQR))]\n",
    "\n",
    "Q1 = df['Delay Rate 5'].quantile(0.25)\n",
    "Q3 = df['Delay Rate 5'].quantile(0.75)\n",
    "IQR = Q3 - Q1    #IQR is interquartile range. \n",
    "df = df[(df['Delay Rate 5'] >= (Q1 - 1.5 * IQR)) & (df['Delay Rate 5'] <= (Q3 + 1.5 *IQR))]\n"
   ]
  },
  {
   "cell_type": "code",
   "execution_count": 83,
   "id": "49b47180",
   "metadata": {},
   "outputs": [
    {
     "name": "stdout",
     "output_type": "stream",
     "text": [
      "before test: ShapiroResult(statistic=0.9470404982566833, pvalue=0.0012808574829250574)\n"
     ]
    },
    {
     "data": {
      "text/plain": [
       "(array([ 4., 11., 20., 21., 11.,  8.,  7.,  2.,  1.,  3.]),\n",
       " array([-0.05229885, -0.03278325, -0.01326765,  0.00624795,  0.02576355,\n",
       "         0.04527915,  0.06479475,  0.08431034,  0.10382594,  0.12334154,\n",
       "         0.14285714]),\n",
       " <BarContainer object of 10 artists>)"
      ]
     },
     "execution_count": 83,
     "metadata": {},
     "output_type": "execute_result"
    },
    {
     "data": {
      "image/png": "[encoded data removed]",
      "text/plain": [
       "<Figure size 432x288 with 1 Axes>"
      ]
     },
     "metadata": {
      "needs_background": "light"
     },
     "output_type": "display_data"
    }
   ],
   "source": [
    "#shapiro test\n",
    "print(\"before test:\", stats.shapiro(df['Delay Rate 5']-df['Delay Rate 4']))\n",
    "plt.hist(df['Delay Rate 5']-df['Delay Rate 4'])"
   ]
  },
  {
   "cell_type": "code",
   "execution_count": 86,
   "id": "98920a32",
   "metadata": {},
   "outputs": [
    {
     "name": "stdout",
     "output_type": "stream",
     "text": [
      "w: 687.0\n",
      "p: 4.57231412288028e-06\n"
     ]
    }
   ],
   "source": [
    "#wilcoxon test\n",
    "w, p = wilcoxon(df['Delay Rate 5']-df['Delay Rate 4'])\n",
    "print (\"w:\",w)\n",
    "print (\"p:\",p)"
   ]
  }
 ],
 "metadata": {
  "kernelspec": {
   "display_name": "Python 3 (ipykernel)",
   "language": "python",
   "name": "python3"
  },
  "language_info": {
   "codemirror_mode": {
    "name": "ipython",
    "version": 3
   },
   "file_extension": ".py",
   "mimetype": "text/x-python",
   "name": "python",
   "nbconvert_exporter": "python",
   "pygments_lexer": "ipython3",
   "version": "3.9.7"
  }
 },
 "nbformat": 4,
 "nbformat_minor": 5
}
